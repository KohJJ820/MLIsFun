{
  "nbformat": 4,
  "nbformat_minor": 0,
  "metadata": {
    "colab": {
      "provenance": [],
      "authorship_tag": "ABX9TyPGJHjBXekgX/QJedBquUOg",
      "include_colab_link": true
    },
    "kernelspec": {
      "name": "python3",
      "display_name": "Python 3"
    },
    "language_info": {
      "name": "python"
    }
  },
  "cells": [
    {
      "cell_type": "markdown",
      "metadata": {
        "id": "view-in-github",
        "colab_type": "text"
      },
      "source": [
        "<a href=\"https://colab.research.google.com/github/KohJJ820/MLIsFun/blob/main/MYR_Exchange_Rate_Forecasting.ipynb\" target=\"_parent\"><img src=\"https://colab.research.google.com/assets/colab-badge.svg\" alt=\"Open In Colab\"/></a>"
      ]
    },
    {
      "cell_type": "markdown",
      "source": [
        "# Introduction\n",
        "\n",
        "Foreign exchange rate is the value of a country's currency in relation to another country's currency. In the forex market, you sell one currency and buy another. If the currency you buy increases against the currency you sell, you profit. The exchanging rate also serves as an indicator of the country's economic health where various economic factors can contribute to the rate of exchange. With these available factors available, we question is exchange rate predictable?\n",
        "\n",
        "\n",
        "\n",
        "This project aims to analyze fluctuations in the Malaysian exchange rate and forecast the value of the Malaysian Ringgit (RM) over the next five(?) years based on Malaysian economic indicators. By leveraging economic factors like Gross Domestic Product (GDP), Employment Rate, and Bank Interest Rate from the official Government of Malaysia data, we seek to provide insights into the future performance of the RM using Machine Learning.\n",
        "\n",
        "The goal is to harness the power of data-driven decision-making in exchanging currency. Empowering the consumers’ purchasing power to manage their budget to buy imported goods and services, as well as the investors in the Forex market to anticipate the return on exchanging foreign currencies.\n"
      ],
      "metadata": {
        "id": "XQzTCe7CFBV7"
      }
    },
    {
      "cell_type": "markdown",
      "source": [
        "# Previous Work"
      ],
      "metadata": {
        "id": "K8HlEMydZhXQ"
      }
    },
    {
      "cell_type": "markdown",
      "source": [
        "https://ieeexplore.ieee.org/stamp/stamp.jsp?tp=&arnumber=8002544"
      ],
      "metadata": {
        "id": "6zDhkUkB75d4"
      }
    },
    {
      "cell_type": "markdown",
      "source": [
        "# Exploratory Data Analysis (EDA)\n",
        "\n",
        "\n"
      ],
      "metadata": {
        "id": "EO0o6NPqZNH5"
      }
    },
    {
      "cell_type": "markdown",
      "source": [
        "According to Investopedia, it listed 5 enconomic factors that can be used to forecast exchange rate. Among them are Gross Domestic Product (GDP), Employment data and Bank Interest Rate.\n",
        "\n"
      ],
      "metadata": {
        "id": "MluHZuZMtVlt"
      }
    },
    {
      "cell_type": "markdown",
      "source": [
        "The data we collected are from the respective sources as shown in Table below.\n",
        "\n",
        "| Economic Indicator | Source                  |\n",
        "|--------------------|------------------------------|\n",
        "| Exchange Rate                | World Bank       |\n",
        "| Real GDP                | Government of Malaysia       |\n",
        "| Employment Rate    | Government of Malaysia|\n",
        "| Bank Interest Rate      | Government of malaysia |\n",
        "\n",
        "\n"
      ],
      "metadata": {
        "id": "6OjPEDrC7fnA"
      }
    },
    {
      "cell_type": "markdown",
      "source": [
        "#### Data Preprocessing"
      ],
      "metadata": {
        "id": "Kyv-TIeIasd2"
      }
    },
    {
      "cell_type": "markdown",
      "source": [],
      "metadata": {
        "id": "v9Dxg26KaVwE"
      }
    },
    {
      "cell_type": "markdown",
      "source": [
        "# Machine Learning Techniques"
      ],
      "metadata": {
        "id": "o1hjAfFXZk1k"
      }
    },
    {
      "cell_type": "markdown",
      "source": [
        "#Result"
      ],
      "metadata": {
        "id": "tIIz4LM11c5u"
      }
    },
    {
      "cell_type": "markdown",
      "source": [
        "# Conclusion"
      ],
      "metadata": {
        "id": "fpTq95t01efB"
      }
    }
  ]
}